{
 "cells": [
  {
   "cell_type": "code",
   "execution_count": 1,
   "metadata": {},
   "outputs": [],
   "source": [
    "import sqlite3"
   ]
  },
  {
   "cell_type": "code",
   "execution_count": 2,
   "metadata": {},
   "outputs": [],
   "source": [
    "conn = sqlite3.connect('Banco_Biblioteca.db')"
   ]
  },
  {
   "cell_type": "code",
   "execution_count": 3,
   "metadata": {},
   "outputs": [],
   "source": [
    "sql_criar_tabela_autor = \"\"\"\n",
    "-- Tabela Autor\n",
    "CREATE TABLE Autor (\n",
    "\tid_autor INTEGER PRIMARY KEY AUTOINCREMENT NOT NULL,\n",
    "    nome VARCHAR(70) NOT NULL,\n",
    "    data_nascimento DATE NOT NULL,\n",
    "    nacionalidade VARCHAR(50) NOT NULL\n",
    ");\n",
    "\"\"\"\n",
    "\n",
    "sql_criar_tabela_livro = \"\"\"\n",
    "-- Tabela Livro\n",
    "CREATE TABLE Livro (\n",
    "\tid_livro INTEGER PRIMARY KEY AUTOINCREMENT NOT NULL,\n",
    "    titulo VARCHAR (200) NOT NULL,\n",
    "    ano_publicacao DATE NOT NULL,\n",
    "    editora VARCHAR(100) NOT NULL,\n",
    "    id_autor INT NOT NULL,\n",
    "    FOREIGN KEY (id_autor) REFERENCES Autor (id_autor)\n",
    ");\n",
    "\"\"\"\n",
    "\n",
    "sql_criar_tabela_emprestimo = \"\"\"\n",
    "-- Tabela Emprestimo\n",
    "CREATE TABLE Emprestimo (\n",
    "    id_emprestimo INTEGER PRIMARY KEY,\n",
    "    id_livro INT,\n",
    "    data_emprestimo DATE,\n",
    "    data_devolucao DATE,\n",
    "    FOREIGN KEY (id_livro) REFERENCES Livro (id_livro)\n",
    ");\n",
    "\"\"\"\n",
    "\n",
    "sql_popular_autor = \"\"\"\n",
    "-- Populando Autor\n",
    "INSERT INTO Autor (nome, data_nascimento, nacionalidade) \n",
    "VALUES\n",
    "\t('George Orwell', '1903-06-25', 'Inglês'),\n",
    "    ('Aldous Huxley', '1894-06-26', 'Inglês'),\n",
    "    ('Neal Shusterman', '1962-11-12', 'Americano');\n",
    "\"\"\"\n",
    "\n",
    "sql_popular_emprestimo = \"\"\"\n",
    "-- Populando Emprestimo\n",
    "INSERT INTO Emprestimo (id_emprestimo, id_livro, data_emprestimo, data_devolucao) VALUES\n",
    "(1, 1, '2023-05-01', '2023-05-15'),\n",
    "(2, 3, '2023-05-03', '2023-05-17'),\n",
    "(3, 4, '2023-05-05', '2023-05-19');\n",
    "\"\"\"\n",
    "\n",
    "sql_popular_livro = \"\"\"\n",
    "-- Populando Livro \n",
    "INSERT INTO Livro (titulo, ano_publicacao, editora, id_autor)\n",
    "VALUES\n",
    "\t('1984', '1949-01-01', 'Companhia das Letras', 1),\n",
    "\t('A Revolução dos Bichos', '1945-01-01', 'Companhia das Letras', 1),\n",
    "    ('Adimiravel Mundo Novo', '1932-01-01', 'Antígona', 2),\n",
    "    ('O Ceifador', '2016-01-01', 'Seguinte', 3),\n",
    "    ('A Nuvem', '2018-01-01', 'Seguinte', 3),\n",
    "    ('O Timbre', '2020-01-01', 'Seguinte', 3);\n",
    "\"\"\"\n",
    "\n",
    "sql_join1 = \"\"\"\n",
    "-- Join para mostrar o nome do Autor e seus titulos\n",
    "SELECT a.nome, l.titulo\n",
    "FROM Autor a\n",
    "JOIN Livro l ON a.id_autor = l.id_autor;\n",
    "\"\"\"\n",
    "\n",
    "sql_join2 = \"\"\"\n",
    "-- Join para mostrar os livros de uma determinada editora\n",
    "SELECT l.titulo, l.ano_publicacao, a.nome as autor_nome\n",
    "FROM Livro l\n",
    "JOIN Autor a ON l.id_autor = a.id_autor\n",
    "WHERE l.editora = \"Seguinte\";\n",
    "\"\"\"\n",
    "\n",
    "sql_join3 = \"\"\"\n",
    "-- Join para mostrar todos os autores que nasceram depois de uma data determinada\n",
    "SELECT a.nome, l.titulo\n",
    "FROM Autor a\n",
    "JOIN Livro l ON a.id_autor = l.id_autor\n",
    "WHERE a.data_nascimento > '1900-01-01';\n",
    "\"\"\"\n",
    "\n",
    "sql_join4 = \"\"\"\n",
    "-- Join para mostrar os livros emprestados\n",
    "SELECT Emprestimo.data_emprestimo, Emprestimo.data_devolucao, Livro.titulo\n",
    "FROM Emprestimo\n",
    "JOIN Livro ON Emprestimo.id_livro = Livro.id_livro;\n",
    "\"\"\""
   ]
  },
  {
   "cell_type": "code",
   "execution_count": 10,
   "metadata": {},
   "outputs": [
    {
     "ename": "OperationalError",
     "evalue": "table Autor already exists",
     "output_type": "error",
     "traceback": [
      "\u001b[0;31m---------------------------------------------------------------------------\u001b[0m",
      "\u001b[0;31mOperationalError\u001b[0m                          Traceback (most recent call last)",
      "Cell \u001b[0;32mIn[10], line 1\u001b[0m\n\u001b[0;32m----> 1\u001b[0m conn\u001b[39m.\u001b[39;49mexecute(sql_criar_tabela_autor)\n\u001b[1;32m      2\u001b[0m conn\u001b[39m.\u001b[39mcommit\n",
      "\u001b[0;31mOperationalError\u001b[0m: table Autor already exists"
     ]
    }
   ],
   "source": [
    "conn.execute(sql_criar_tabela_autor)\n",
    "conn.commit"
   ]
  },
  {
   "cell_type": "code",
   "execution_count": 12,
   "metadata": {},
   "outputs": [
    {
     "data": {
      "text/plain": [
       "<function Connection.commit()>"
      ]
     },
     "execution_count": 12,
     "metadata": {},
     "output_type": "execute_result"
    }
   ],
   "source": [
    "conn.execute(sql_criar_tabela_emprestimo)\n",
    "conn.commit"
   ]
  },
  {
   "cell_type": "code",
   "execution_count": 13,
   "metadata": {},
   "outputs": [
    {
     "data": {
      "text/plain": [
       "<function Connection.commit()>"
      ]
     },
     "execution_count": 13,
     "metadata": {},
     "output_type": "execute_result"
    }
   ],
   "source": [
    "conn.execute(sql_criar_tabela_livro)\n",
    "conn.commit"
   ]
  },
  {
   "cell_type": "code",
   "execution_count": 15,
   "metadata": {},
   "outputs": [
    {
     "data": {
      "text/plain": [
       "<function Connection.commit()>"
      ]
     },
     "execution_count": 15,
     "metadata": {},
     "output_type": "execute_result"
    }
   ],
   "source": [
    "conn.execute(sql_popular_autor)\n",
    "conn.commit"
   ]
  },
  {
   "cell_type": "code",
   "execution_count": 16,
   "metadata": {},
   "outputs": [
    {
     "data": {
      "text/plain": [
       "<function Connection.commit()>"
      ]
     },
     "execution_count": 16,
     "metadata": {},
     "output_type": "execute_result"
    }
   ],
   "source": [
    "conn.execute(sql_popular_emprestimo)\n",
    "conn.commit"
   ]
  },
  {
   "cell_type": "code",
   "execution_count": 17,
   "metadata": {},
   "outputs": [
    {
     "data": {
      "text/plain": [
       "<function Connection.commit()>"
      ]
     },
     "execution_count": 17,
     "metadata": {},
     "output_type": "execute_result"
    }
   ],
   "source": [
    "conn.execute(sql_popular_livro)\n",
    "conn.commit"
   ]
  },
  {
   "cell_type": "code",
   "execution_count": 4,
   "metadata": {},
   "outputs": [],
   "source": [
    "import pandas as pd\n",
    "import numpy as np"
   ]
  },
  {
   "cell_type": "code",
   "execution_count": 5,
   "metadata": {},
   "outputs": [
    {
     "data": {
      "text/html": [
       "<div>\n",
       "<style scoped>\n",
       "    .dataframe tbody tr th:only-of-type {\n",
       "        vertical-align: middle;\n",
       "    }\n",
       "\n",
       "    .dataframe tbody tr th {\n",
       "        vertical-align: top;\n",
       "    }\n",
       "\n",
       "    .dataframe thead th {\n",
       "        text-align: right;\n",
       "    }\n",
       "</style>\n",
       "<table border=\"1\" class=\"dataframe\">\n",
       "  <thead>\n",
       "    <tr style=\"text-align: right;\">\n",
       "      <th></th>\n",
       "      <th>nome</th>\n",
       "      <th>titulo</th>\n",
       "    </tr>\n",
       "  </thead>\n",
       "  <tbody>\n",
       "    <tr>\n",
       "      <th>0</th>\n",
       "      <td>George Orwell</td>\n",
       "      <td>1984</td>\n",
       "    </tr>\n",
       "    <tr>\n",
       "      <th>1</th>\n",
       "      <td>George Orwell</td>\n",
       "      <td>A Revolução dos Bichos</td>\n",
       "    </tr>\n",
       "    <tr>\n",
       "      <th>2</th>\n",
       "      <td>Aldous Huxley</td>\n",
       "      <td>Adimiravel Mundo Novo</td>\n",
       "    </tr>\n",
       "    <tr>\n",
       "      <th>3</th>\n",
       "      <td>Neal Shusterman</td>\n",
       "      <td>O Ceifador</td>\n",
       "    </tr>\n",
       "    <tr>\n",
       "      <th>4</th>\n",
       "      <td>Neal Shusterman</td>\n",
       "      <td>A Nuvem</td>\n",
       "    </tr>\n",
       "    <tr>\n",
       "      <th>5</th>\n",
       "      <td>Neal Shusterman</td>\n",
       "      <td>O Timbre</td>\n",
       "    </tr>\n",
       "  </tbody>\n",
       "</table>\n",
       "</div>"
      ],
      "text/plain": [
       "              nome                  titulo\n",
       "0    George Orwell                    1984\n",
       "1    George Orwell  A Revolução dos Bichos\n",
       "2    Aldous Huxley   Adimiravel Mundo Novo\n",
       "3  Neal Shusterman              O Ceifador\n",
       "4  Neal Shusterman                 A Nuvem\n",
       "5  Neal Shusterman                O Timbre"
      ]
     },
     "execution_count": 5,
     "metadata": {},
     "output_type": "execute_result"
    }
   ],
   "source": [
    "#Join para mostrar o autor e seus titulos\n",
    "query = pd.read_sql_query(sql_join1, conn) #executando a query\n",
    "df = pd.DataFrame(query) #transformando em data frame\n",
    "csv = df.to_csv(\"join_titulosautor.csv\", index=False)#transformando em csv\n",
    "\n",
    "conn.commit()\n",
    "pd.read_csv(\"join_titulosautor.csv\")#lendo csv com pandas"
   ]
  },
  {
   "cell_type": "code",
   "execution_count": 6,
   "metadata": {},
   "outputs": [
    {
     "data": {
      "text/html": [
       "<div>\n",
       "<style scoped>\n",
       "    .dataframe tbody tr th:only-of-type {\n",
       "        vertical-align: middle;\n",
       "    }\n",
       "\n",
       "    .dataframe tbody tr th {\n",
       "        vertical-align: top;\n",
       "    }\n",
       "\n",
       "    .dataframe thead th {\n",
       "        text-align: right;\n",
       "    }\n",
       "</style>\n",
       "<table border=\"1\" class=\"dataframe\">\n",
       "  <thead>\n",
       "    <tr style=\"text-align: right;\">\n",
       "      <th></th>\n",
       "      <th>titulo</th>\n",
       "      <th>ano_publicacao</th>\n",
       "      <th>autor_nome</th>\n",
       "    </tr>\n",
       "  </thead>\n",
       "  <tbody>\n",
       "    <tr>\n",
       "      <th>0</th>\n",
       "      <td>O Ceifador</td>\n",
       "      <td>2016-01-01</td>\n",
       "      <td>Neal Shusterman</td>\n",
       "    </tr>\n",
       "    <tr>\n",
       "      <th>1</th>\n",
       "      <td>A Nuvem</td>\n",
       "      <td>2018-01-01</td>\n",
       "      <td>Neal Shusterman</td>\n",
       "    </tr>\n",
       "    <tr>\n",
       "      <th>2</th>\n",
       "      <td>O Timbre</td>\n",
       "      <td>2020-01-01</td>\n",
       "      <td>Neal Shusterman</td>\n",
       "    </tr>\n",
       "  </tbody>\n",
       "</table>\n",
       "</div>"
      ],
      "text/plain": [
       "       titulo ano_publicacao       autor_nome\n",
       "0  O Ceifador     2016-01-01  Neal Shusterman\n",
       "1     A Nuvem     2018-01-01  Neal Shusterman\n",
       "2    O Timbre     2020-01-01  Neal Shusterman"
      ]
     },
     "execution_count": 6,
     "metadata": {},
     "output_type": "execute_result"
    }
   ],
   "source": [
    "#Join para mostrar os livros de uma determinada editora\n",
    "query = pd.read_sql_query(sql_join2, conn)\n",
    "df = pd.DataFrame(query)\n",
    "csv = df.to_csv(\"join_livroseditora.csv\", index=False)\n",
    "\n",
    "conn.commit()\n",
    "pd.read_csv(\"join_livroseditora.csv\")"
   ]
  },
  {
   "cell_type": "code",
   "execution_count": 7,
   "metadata": {},
   "outputs": [
    {
     "data": {
      "text/html": [
       "<div>\n",
       "<style scoped>\n",
       "    .dataframe tbody tr th:only-of-type {\n",
       "        vertical-align: middle;\n",
       "    }\n",
       "\n",
       "    .dataframe tbody tr th {\n",
       "        vertical-align: top;\n",
       "    }\n",
       "\n",
       "    .dataframe thead th {\n",
       "        text-align: right;\n",
       "    }\n",
       "</style>\n",
       "<table border=\"1\" class=\"dataframe\">\n",
       "  <thead>\n",
       "    <tr style=\"text-align: right;\">\n",
       "      <th></th>\n",
       "      <th>nome</th>\n",
       "      <th>titulo</th>\n",
       "    </tr>\n",
       "  </thead>\n",
       "  <tbody>\n",
       "    <tr>\n",
       "      <th>0</th>\n",
       "      <td>George Orwell</td>\n",
       "      <td>1984</td>\n",
       "    </tr>\n",
       "    <tr>\n",
       "      <th>1</th>\n",
       "      <td>George Orwell</td>\n",
       "      <td>A Revolução dos Bichos</td>\n",
       "    </tr>\n",
       "    <tr>\n",
       "      <th>2</th>\n",
       "      <td>Neal Shusterman</td>\n",
       "      <td>O Ceifador</td>\n",
       "    </tr>\n",
       "    <tr>\n",
       "      <th>3</th>\n",
       "      <td>Neal Shusterman</td>\n",
       "      <td>A Nuvem</td>\n",
       "    </tr>\n",
       "    <tr>\n",
       "      <th>4</th>\n",
       "      <td>Neal Shusterman</td>\n",
       "      <td>O Timbre</td>\n",
       "    </tr>\n",
       "  </tbody>\n",
       "</table>\n",
       "</div>"
      ],
      "text/plain": [
       "              nome                  titulo\n",
       "0    George Orwell                    1984\n",
       "1    George Orwell  A Revolução dos Bichos\n",
       "2  Neal Shusterman              O Ceifador\n",
       "3  Neal Shusterman                 A Nuvem\n",
       "4  Neal Shusterman                O Timbre"
      ]
     },
     "execution_count": 7,
     "metadata": {},
     "output_type": "execute_result"
    }
   ],
   "source": [
    "#Join para mostrar todos os autores que nasceram depois de uma data determinada e seus livros\n",
    "query = pd.read_sql_query(sql_join3, conn)\n",
    "df = pd.DataFrame(query)\n",
    "csv = df.to_csv(\"join_autoresdata.csv\", index=False)\n",
    "\n",
    "conn.commit()\n",
    "pd.read_csv(\"join_autoresdata.csv\")"
   ]
  },
  {
   "cell_type": "code",
   "execution_count": 8,
   "metadata": {},
   "outputs": [
    {
     "data": {
      "text/html": [
       "<div>\n",
       "<style scoped>\n",
       "    .dataframe tbody tr th:only-of-type {\n",
       "        vertical-align: middle;\n",
       "    }\n",
       "\n",
       "    .dataframe tbody tr th {\n",
       "        vertical-align: top;\n",
       "    }\n",
       "\n",
       "    .dataframe thead th {\n",
       "        text-align: right;\n",
       "    }\n",
       "</style>\n",
       "<table border=\"1\" class=\"dataframe\">\n",
       "  <thead>\n",
       "    <tr style=\"text-align: right;\">\n",
       "      <th></th>\n",
       "      <th>data_emprestimo</th>\n",
       "      <th>data_devolucao</th>\n",
       "      <th>titulo</th>\n",
       "    </tr>\n",
       "  </thead>\n",
       "  <tbody>\n",
       "    <tr>\n",
       "      <th>0</th>\n",
       "      <td>2023-05-01</td>\n",
       "      <td>2023-05-15</td>\n",
       "      <td>1984</td>\n",
       "    </tr>\n",
       "    <tr>\n",
       "      <th>1</th>\n",
       "      <td>2023-05-03</td>\n",
       "      <td>2023-05-17</td>\n",
       "      <td>Adimiravel Mundo Novo</td>\n",
       "    </tr>\n",
       "    <tr>\n",
       "      <th>2</th>\n",
       "      <td>2023-05-05</td>\n",
       "      <td>2023-05-19</td>\n",
       "      <td>O Ceifador</td>\n",
       "    </tr>\n",
       "  </tbody>\n",
       "</table>\n",
       "</div>"
      ],
      "text/plain": [
       "  data_emprestimo data_devolucao                 titulo\n",
       "0      2023-05-01     2023-05-15                   1984\n",
       "1      2023-05-03     2023-05-17  Adimiravel Mundo Novo\n",
       "2      2023-05-05     2023-05-19             O Ceifador"
      ]
     },
     "execution_count": 8,
     "metadata": {},
     "output_type": "execute_result"
    }
   ],
   "source": [
    "#Join para mostrar os livros emprestados\n",
    "query = pd.read_sql_query(sql_join4, conn)\n",
    "df = pd.DataFrame(query)\n",
    "csv = df.to_csv(\"join_livrosemprestados.csv\", index=False)\n",
    "\n",
    "conn.commit()\n",
    "pd.read_csv(\"join_livrosemprestados.csv\")"
   ]
  },
  {
   "cell_type": "code",
   "execution_count": null,
   "metadata": {},
   "outputs": [],
   "source": [
    "conn.close()"
   ]
  }
 ],
 "metadata": {
  "kernelspec": {
   "display_name": "Python 3",
   "language": "python",
   "name": "python3"
  },
  "language_info": {
   "codemirror_mode": {
    "name": "ipython",
    "version": 3
   },
   "file_extension": ".py",
   "mimetype": "text/x-python",
   "name": "python",
   "nbconvert_exporter": "python",
   "pygments_lexer": "ipython3",
   "version": "3.10.4"
  },
  "orig_nbformat": 4
 },
 "nbformat": 4,
 "nbformat_minor": 2
}
