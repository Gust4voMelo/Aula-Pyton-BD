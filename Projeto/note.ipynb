{
 "cells": [
  {
   "cell_type": "code",
   "execution_count": 1,
   "metadata": {},
   "outputs": [],
   "source": [
    "import sqlite3"
   ]
  },
  {
   "cell_type": "code",
   "execution_count": 2,
   "metadata": {},
   "outputs": [],
   "source": [
    "conn = sqlite3.connect('Banco_Biblioteca.db')"
   ]
  },
  {
   "cell_type": "code",
   "execution_count": 22,
   "metadata": {},
   "outputs": [],
   "source": [
    "sql_criar_tabela_autor = \"\"\"\n",
    "-- Tabela Autor\n",
    "CREATE TABLE Autor (\n",
    "\tid_autor INTEGER PRIMARY KEY AUTOINCREMENT NOT NULL,\n",
    "    nome VARCHAR(70) NOT NULL,\n",
    "    data_nascimento DATE NOT NULL,\n",
    "    nacionalidade VARCHAR(50) NOT NULL\n",
    ");\n",
    "\"\"\"\n",
    "\n",
    "sql_criar_tabela_livro = \"\"\"\n",
    "-- Tabela Livro\n",
    "CREATE TABLE Livro (\n",
    "\tid_livro INTEGER PRIMARY KEY AUTOINCREMENT NOT NULL,\n",
    "    titulo VARCHAR (200) NOT NULL,\n",
    "    ano_publicacao DATE NOT NULL,\n",
    "    editora VARCHAR(100) NOT NULL,\n",
    "    id_autor INT NOT NULL,\n",
    "    FOREIGN KEY (id_autor) REFERENCES Autor (id_autor)\n",
    ");\n",
    "\"\"\"\n",
    "\n",
    "sql_criar_tabela_emprestimo = \"\"\"\n",
    "-- Tabela Emprestimo\n",
    "CREATE TABLE Emprestimo (\n",
    "    id_emprestimo INTEGER PRIMARY KEY,\n",
    "    id_livro INT,\n",
    "    data_emprestimo DATE,\n",
    "    data_devolucao DATE,\n",
    "    FOREIGN KEY (id_livro) REFERENCES Livro (id_livro)\n",
    ");\n",
    "\"\"\"\n",
    "\n",
    "sql_popular_autor = \"\"\"\n",
    "-- Populando Autor\n",
    "INSERT INTO Autor (nome, data_nascimento, nacionalidade) \n",
    "VALUES\n",
    "\t('George Orwell', '1903-06-25', 'Inglês'),\n",
    "    ('Aldous Huxley', '1894-06-26', 'Inglês'),\n",
    "    ('Neal Shusterman', '1962-11-12', 'Americano');\n",
    "\"\"\"\n",
    "\n",
    "sql_popular_emprestimo = \"\"\"\n",
    "-- Populando Emprestimo\n",
    "INSERT INTO Emprestimo (id_emprestimo, id_livro, data_emprestimo, data_devolucao) VALUES\n",
    "(1, 1, '2023-05-01', '2023-05-15'),\n",
    "(2, 3, '2023-05-03', '2023-05-17'),\n",
    "(3, 4, '2023-05-05', '2023-05-19');\n",
    "\"\"\"\n",
    "\n",
    "sql_popular_livro = \"\"\"\n",
    "-- Populando Livro \n",
    "INSERT INTO Livro (titulo, ano_publicacao, editora, id_autor)\n",
    "VALUES\n",
    "\t('1984', '1949-01-01', 'Companhia das Letras', 1),\n",
    "\t('A Revolução dos Bichos', '1945-01-01', 'Companhia das Letras', 1),\n",
    "    ('Adimiravel Mundo Novo', '1932-01-01', 'Antígona', 2),\n",
    "    ('O Ceifador', '2016-01-01', 'Seguinte', 3),\n",
    "    ('A Nuvem', '2018-01-01', 'Seguinte', 3),\n",
    "    ('O Timbre', '2020-01-01', 'Seguinte', 3);\n",
    "\"\"\"\n",
    "\n",
    "sql_join1 = \"\"\"\n",
    "-- Join para mostrar o nome do Autor e seus titulos\n",
    "SELECT a.nome, l.titulo\n",
    "FROM Autor a\n",
    "JOIN Livro l ON a.id_autor = l.id_autor;\n",
    "\"\"\"\n",
    "\n",
    "sql_join2 = \"\"\"\n",
    "-- Join para mostrar os livros de uma determinada editora\n",
    "SELECT l.titulo, l.ano_publicacao, a.nome as autor_nome\n",
    "FROM Livro l\n",
    "JOIN Autor a ON l.id_autor = a.id_autor\n",
    "WHERE l.editora = \"Seguinte\";\n",
    "\"\"\"\n",
    "\n",
    "sql_join3 = \"\"\"\n",
    "-- Join para mostrar todos os autores que nasceram depois de uma data determinada\n",
    "SELECT a.nome, l.titulo\n",
    "FROM Autor a\n",
    "JOIN Livro l ON a.id_autor = l.id_autor\n",
    "WHERE a.data_nascimento > '1900-01-01';\n",
    "\"\"\"\n",
    "\n",
    "sql_join4 = \"\"\"\n",
    "-- Join para mostrar os livros emprestados\n",
    "SELECT Emprestimo.data_emprestimo, Emprestimo.data_devolucao, Livro.titulo\n",
    "FROM Emprestimo\n",
    "JOIN Livro ON Emprestimo.id_livro = Livro.id_livro;\n",
    "\"\"\""
   ]
  },
  {
   "cell_type": "code",
   "execution_count": 10,
   "metadata": {},
   "outputs": [
    {
     "data": {
      "text/plain": [
       "<function Connection.commit()>"
      ]
     },
     "execution_count": 10,
     "metadata": {},
     "output_type": "execute_result"
    }
   ],
   "source": [
    "conn.execute(sql_criar_tabela_autor)\n",
    "conn.commit"
   ]
  },
  {
   "cell_type": "code",
   "execution_count": 12,
   "metadata": {},
   "outputs": [
    {
     "data": {
      "text/plain": [
       "<function Connection.commit()>"
      ]
     },
     "execution_count": 12,
     "metadata": {},
     "output_type": "execute_result"
    }
   ],
   "source": [
    "conn.execute(sql_criar_tabela_emprestimo)\n",
    "conn.commit"
   ]
  },
  {
   "cell_type": "code",
   "execution_count": 13,
   "metadata": {},
   "outputs": [
    {
     "data": {
      "text/plain": [
       "<function Connection.commit()>"
      ]
     },
     "execution_count": 13,
     "metadata": {},
     "output_type": "execute_result"
    }
   ],
   "source": [
    "conn.execute(sql_criar_tabela_livro)\n",
    "conn.commit"
   ]
  },
  {
   "cell_type": "code",
   "execution_count": 15,
   "metadata": {},
   "outputs": [
    {
     "data": {
      "text/plain": [
       "<function Connection.commit()>"
      ]
     },
     "execution_count": 15,
     "metadata": {},
     "output_type": "execute_result"
    }
   ],
   "source": [
    "conn.execute(sql_popular_autor)\n",
    "conn.commit"
   ]
  },
  {
   "cell_type": "code",
   "execution_count": 16,
   "metadata": {},
   "outputs": [
    {
     "data": {
      "text/plain": [
       "<function Connection.commit()>"
      ]
     },
     "execution_count": 16,
     "metadata": {},
     "output_type": "execute_result"
    }
   ],
   "source": [
    "conn.execute(sql_popular_emprestimo)\n",
    "conn.commit"
   ]
  },
  {
   "cell_type": "code",
   "execution_count": 17,
   "metadata": {},
   "outputs": [
    {
     "data": {
      "text/plain": [
       "<function Connection.commit()>"
      ]
     },
     "execution_count": 17,
     "metadata": {},
     "output_type": "execute_result"
    }
   ],
   "source": [
    "conn.execute(sql_popular_livro)\n",
    "conn.commit"
   ]
  },
  {
   "cell_type": "code",
   "execution_count": 18,
   "metadata": {},
   "outputs": [
    {
     "name": "stdout",
     "output_type": "stream",
     "text": [
      "('George Orwell', '1984')\n",
      "('George Orwell', 'A Revolução dos Bichos')\n",
      "('Aldous Huxley', 'Adimiravel Mundo Novo')\n",
      "('Neal Shusterman', 'O Ceifador')\n",
      "('Neal Shusterman', 'A Nuvem')\n",
      "('Neal Shusterman', 'O Timbre')\n"
     ]
    }
   ],
   "source": [
    "#Join para mostrar o autor e seus titulos\n",
    "cursor = conn.execute(sql_join1)\n",
    "rows = cursor.fetchall()\n",
    "for row in rows:\n",
    "    print(row)"
   ]
  },
  {
   "cell_type": "code",
   "execution_count": 19,
   "metadata": {},
   "outputs": [
    {
     "name": "stdout",
     "output_type": "stream",
     "text": [
      "('O Ceifador', '2016-01-01', 'Neal Shusterman')\n",
      "('A Nuvem', '2018-01-01', 'Neal Shusterman')\n",
      "('O Timbre', '2020-01-01', 'Neal Shusterman')\n"
     ]
    }
   ],
   "source": [
    "#Join para mostrar os livros de uma determinada editora\n",
    "cursor = conn.execute(sql_join2)\n",
    "rows = cursor.fetchall()\n",
    "for row in rows:\n",
    "    print(row)"
   ]
  },
  {
   "cell_type": "code",
   "execution_count": 20,
   "metadata": {},
   "outputs": [
    {
     "name": "stdout",
     "output_type": "stream",
     "text": [
      "('George Orwell', '1984')\n",
      "('George Orwell', 'A Revolução dos Bichos')\n",
      "('Neal Shusterman', 'O Ceifador')\n",
      "('Neal Shusterman', 'A Nuvem')\n",
      "('Neal Shusterman', 'O Timbre')\n"
     ]
    }
   ],
   "source": [
    "#Join para mostrar todos os autores que nasceram depois de uma data determinada\n",
    "cursor = conn.execute(sql_join3)\n",
    "rows = cursor.fetchall()\n",
    "for row in rows:\n",
    "    print(row)"
   ]
  },
  {
   "cell_type": "code",
   "execution_count": 23,
   "metadata": {},
   "outputs": [
    {
     "name": "stdout",
     "output_type": "stream",
     "text": [
      "('2023-05-01', '2023-05-15', '1984')\n",
      "('2023-05-03', '2023-05-17', 'Adimiravel Mundo Novo')\n",
      "('2023-05-05', '2023-05-19', 'O Ceifador')\n"
     ]
    }
   ],
   "source": [
    "#Join para mostrar os livros emprestados\n",
    "cursor = conn.execute(sql_join4)\n",
    "rows = cursor.fetchall()\n",
    "for row in rows:\n",
    "    print(row)"
   ]
  },
  {
   "cell_type": "code",
   "execution_count": null,
   "metadata": {},
   "outputs": [],
   "source": [
    "conn.close()"
   ]
  }
 ],
 "metadata": {
  "kernelspec": {
   "display_name": "Python 3",
   "language": "python",
   "name": "python3"
  },
  "language_info": {
   "codemirror_mode": {
    "name": "ipython",
    "version": 3
   },
   "file_extension": ".py",
   "mimetype": "text/x-python",
   "name": "python",
   "nbconvert_exporter": "python",
   "pygments_lexer": "ipython3",
   "version": "3.10.4"
  },
  "orig_nbformat": 4
 },
 "nbformat": 4,
 "nbformat_minor": 2
}
